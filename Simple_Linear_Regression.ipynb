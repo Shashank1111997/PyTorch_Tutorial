{
 "cells": [
  {
   "cell_type": "markdown",
   "id": "8f18e9bc",
   "metadata": {},
   "source": [
    "# Simple Linear Regression Using PyTorch"
   ]
  },
  {
   "cell_type": "markdown",
   "id": "c2d3b1eb",
   "metadata": {},
   "source": [
    "### Importing important libraries"
   ]
  },
  {
   "cell_type": "code",
   "execution_count": 2,
   "id": "70af2f16",
   "metadata": {},
   "outputs": [],
   "source": [
    "import torch \n",
    "import numpy as np\n",
    "import matplotlib.pyplot as plt\n",
    "%matplotlib inline\n",
    "import torch.nn as nn"
   ]
  },
  {
   "cell_type": "markdown",
   "id": "6b32cc5e",
   "metadata": {},
   "source": [
    "### Creating a Tensor\n",
    "X = torch.linspace(1,50,50) will create a tensor that will have 50 values and that will start from 1.0 to 50.0 and reshape(-1,1) will change the shape of the tensor to single column tensor as we are reshaping it (-1,1) i.e. irrespective of the 1st dimension, we need 2nd dimension should be 1."
   ]
  },
  {
   "cell_type": "code",
   "execution_count": 3,
   "id": "d4ad52b5",
   "metadata": {},
   "outputs": [],
   "source": [
    "X = torch.linspace(1,50,50).reshape(-1,1)"
   ]
  },
  {
   "cell_type": "code",
   "execution_count": 4,
   "id": "b0fc011f",
   "metadata": {},
   "outputs": [
    {
     "name": "stdout",
     "output_type": "stream",
     "text": [
      "tensor([[ 1.],\n",
      "        [ 2.],\n",
      "        [ 3.],\n",
      "        [ 4.],\n",
      "        [ 5.],\n",
      "        [ 6.],\n",
      "        [ 7.],\n",
      "        [ 8.],\n",
      "        [ 9.],\n",
      "        [10.],\n",
      "        [11.],\n",
      "        [12.],\n",
      "        [13.],\n",
      "        [14.],\n",
      "        [15.],\n",
      "        [16.],\n",
      "        [17.],\n",
      "        [18.],\n",
      "        [19.],\n",
      "        [20.],\n",
      "        [21.],\n",
      "        [22.],\n",
      "        [23.],\n",
      "        [24.],\n",
      "        [25.],\n",
      "        [26.],\n",
      "        [27.],\n",
      "        [28.],\n",
      "        [29.],\n",
      "        [30.],\n",
      "        [31.],\n",
      "        [32.],\n",
      "        [33.],\n",
      "        [34.],\n",
      "        [35.],\n",
      "        [36.],\n",
      "        [37.],\n",
      "        [38.],\n",
      "        [39.],\n",
      "        [40.],\n",
      "        [41.],\n",
      "        [42.],\n",
      "        [43.],\n",
      "        [44.],\n",
      "        [45.],\n",
      "        [46.],\n",
      "        [47.],\n",
      "        [48.],\n",
      "        [49.],\n",
      "        [50.]])\n"
     ]
    }
   ],
   "source": [
    "print(X)"
   ]
  },
  {
   "cell_type": "code",
   "execution_count": 10,
   "id": "b8d30072",
   "metadata": {},
   "outputs": [],
   "source": [
    "torch.manual_seed(71)\n",
    "\n",
    "e = torch.randint(-8,9,(50,1),dtype=torch.float)"
   ]
  },
  {
   "cell_type": "code",
   "execution_count": 11,
   "id": "91d14ef7",
   "metadata": {},
   "outputs": [
    {
     "name": "stdout",
     "output_type": "stream",
     "text": [
      "tensor([[ 2.],\n",
      "        [ 7.],\n",
      "        [ 2.],\n",
      "        [ 6.],\n",
      "        [ 2.],\n",
      "        [-4.],\n",
      "        [ 2.],\n",
      "        [-5.],\n",
      "        [ 4.],\n",
      "        [ 1.],\n",
      "        [ 2.],\n",
      "        [ 3.],\n",
      "        [ 1.],\n",
      "        [-8.],\n",
      "        [ 5.],\n",
      "        [ 5.],\n",
      "        [-6.],\n",
      "        [ 0.],\n",
      "        [-7.],\n",
      "        [-8.],\n",
      "        [-3.],\n",
      "        [-1.],\n",
      "        [ 2.],\n",
      "        [-6.],\n",
      "        [-3.],\n",
      "        [ 3.],\n",
      "        [ 2.],\n",
      "        [ 3.],\n",
      "        [ 4.],\n",
      "        [ 5.],\n",
      "        [ 1.],\n",
      "        [ 7.],\n",
      "        [ 6.],\n",
      "        [-1.],\n",
      "        [-6.],\n",
      "        [-5.],\n",
      "        [-3.],\n",
      "        [ 7.],\n",
      "        [ 0.],\n",
      "        [ 8.],\n",
      "        [-1.],\n",
      "        [-2.],\n",
      "        [ 2.],\n",
      "        [-8.],\n",
      "        [-1.],\n",
      "        [ 6.],\n",
      "        [-8.],\n",
      "        [-3.],\n",
      "        [-7.],\n",
      "        [-2.]])\n"
     ]
    }
   ],
   "source": [
    "print(e)"
   ]
  },
  {
   "cell_type": "code",
   "execution_count": 12,
   "id": "3acac334",
   "metadata": {},
   "outputs": [],
   "source": [
    "y = 2*X + 1 + e"
   ]
  },
  {
   "cell_type": "code",
   "execution_count": 13,
   "id": "87606ee6",
   "metadata": {},
   "outputs": [
    {
     "data": {
      "text/plain": [
       "<matplotlib.collections.PathCollection at 0x7fbd3c32f668>"
      ]
     },
     "execution_count": 13,
     "metadata": {},
     "output_type": "execute_result"
    },
    {
     "data": {
      "image/png": "[encoded data removed]",
      "text/plain": [
       "<Figure size 640x480 with 1 Axes>"
      ]
     },
     "metadata": {},
     "output_type": "display_data"
    }
   ],
   "source": [
    "plt.scatter(X.numpy(),y.numpy())"
   ]
  },
  {
   "cell_type": "code",
   "execution_count": 15,
   "id": "ba249c9c",
   "metadata": {},
   "outputs": [
    {
     "name": "stdout",
     "output_type": "stream",
     "text": [
      "Parameter containing:\n",
      "tensor([[0.1060]], requires_grad=True)\n",
      "Parameter containing:\n",
      "tensor([0.9638], requires_grad=True)\n"
     ]
    }
   ],
   "source": [
    "torch.manual_seed(59)\n",
    "\n",
    "model = nn.Linear(in_features=1, out_features=1)\n",
    "\n",
    "print(model.weight)\n",
    "print(model.bias)"
   ]
  },
  {
   "cell_type": "code",
   "execution_count": 16,
   "id": "c77d1fdc",
   "metadata": {},
   "outputs": [],
   "source": [
    "class Model(nn.Module):\n",
    "    \n",
    "    def __init__(self, in_features, out_features):\n",
    "        super().__init__()\n",
    "        self.linear = nn.Linear(in_features, out_features)\n",
    "        \n",
    "    def forward(self, x):\n",
    "        y_pred = self.linear(x)\n",
    "        return y_pred\n",
    "        "
   ]
  },
  {
   "cell_type": "code",
   "execution_count": 17,
   "id": "51209ce2",
   "metadata": {},
   "outputs": [
    {
     "name": "stdout",
     "output_type": "stream",
     "text": [
      "Parameter containing:\n",
      "tensor([[0.1060]], requires_grad=True)\n",
      "Parameter containing:\n",
      "tensor([0.9638], requires_grad=True)\n"
     ]
    }
   ],
   "source": [
    "torch.manual_seed(59)\n",
    "\n",
    "model = Model(1,1)\n",
    "\n",
    "print(model.linear.weight)\n",
    "print(model.linear.bias)"
   ]
  },
  {
   "cell_type": "code",
   "execution_count": 21,
   "id": "58f09959",
   "metadata": {},
   "outputs": [
    {
     "name": "stdout",
     "output_type": "stream",
     "text": [
      "linear.weight \t 0.10597813129425049\n",
      "linear.bias \t 0.9637961387634277\n"
     ]
    }
   ],
   "source": [
    "for name,param in model.named_parameters():\n",
    "    print(name,'\\t',param.item())"
   ]
  },
  {
   "cell_type": "code",
   "execution_count": 22,
   "id": "60ea2280",
   "metadata": {},
   "outputs": [
    {
     "name": "stdout",
     "output_type": "stream",
     "text": [
      "tensor([1.1758], grad_fn=<AddBackward0>)\n"
     ]
    }
   ],
   "source": [
    "x = torch.tensor([2.0])\n",
    "print(model.forward(x))"
   ]
  },
  {
   "cell_type": "code",
   "execution_count": 23,
   "id": "4c33e31e",
   "metadata": {},
   "outputs": [],
   "source": [
    "x1 = torch.linspace(0.0, 50.0, 50)"
   ]
  },
  {
   "cell_type": "code",
   "execution_count": 24,
   "id": "7cb8bdd1",
   "metadata": {},
   "outputs": [
    {
     "name": "stdout",
     "output_type": "stream",
     "text": [
      "tensor([ 0.0000,  1.0204,  2.0408,  3.0612,  4.0816,  5.1020,  6.1224,  7.1429,\n",
      "         8.1633,  9.1837, 10.2041, 11.2245, 12.2449, 13.2653, 14.2857, 15.3061,\n",
      "        16.3265, 17.3469, 18.3673, 19.3878, 20.4082, 21.4286, 22.4490, 23.4694,\n",
      "        24.4898, 25.5102, 26.5306, 27.5510, 28.5714, 29.5918, 30.6122, 31.6327,\n",
      "        32.6531, 33.6735, 34.6939, 35.7143, 36.7347, 37.7551, 38.7755, 39.7959,\n",
      "        40.8163, 41.8367, 42.8571, 43.8776, 44.8980, 45.9184, 46.9388, 47.9592,\n",
      "        48.9796, 50.0000])\n"
     ]
    }
   ],
   "source": [
    "print(x1)"
   ]
  },
  {
   "cell_type": "code",
   "execution_count": 25,
   "id": "db26a4d2",
   "metadata": {},
   "outputs": [],
   "source": [
    "w1 = 0.1059\n",
    "b1 = 0.9637\n",
    "\n",
    "y1 = w1*x1 + b1"
   ]
  },
  {
   "cell_type": "code",
   "execution_count": 26,
   "id": "a9b6376c",
   "metadata": {},
   "outputs": [
    {
     "data": {
      "text/plain": [
       "tensor([0.9637, 1.0718, 1.1798, 1.2879, 1.3959, 1.5040, 1.6121, 1.7201, 1.8282,\n",
       "        1.9363, 2.0443, 2.1524, 2.2604, 2.3685, 2.4766, 2.5846, 2.6927, 2.8007,\n",
       "        2.9088, 3.0169, 3.1249, 3.2330, 3.3410, 3.4491, 3.5572, 3.6652, 3.7733,\n",
       "        3.8814, 3.9894, 4.0975, 4.2055, 4.3136, 4.4217, 4.5297, 4.6378, 4.7458,\n",
       "        4.8539, 4.9620, 5.0700, 5.1781, 5.2861, 5.3942, 5.5023, 5.6103, 5.7184,\n",
       "        5.8265, 5.9345, 6.0426, 6.1506, 6.2587])"
      ]
     },
     "execution_count": 26,
     "metadata": {},
     "output_type": "execute_result"
    }
   ],
   "source": [
    "y1"
   ]
  },
  {
   "cell_type": "code",
   "execution_count": 37,
   "id": "25c50178",
   "metadata": {},
   "outputs": [
    {
     "data": {
      "text/plain": [
       "[<matplotlib.lines.Line2D at 0x7fbd4a59ab00>]"
      ]
     },
     "execution_count": 37,
     "metadata": {},
     "output_type": "execute_result"
    },
    {
     "data": {
      "image/png": "[encoded data removed]",
      "text/plain": [
       "<Figure size 640x480 with 1 Axes>"
      ]
     },
     "metadata": {},
     "output_type": "display_data"
    }
   ],
   "source": [
    "plt.scatter(X.numpy(),y.numpy())\n",
    "plt.plot(x1,y1,'r')\n"
   ]
  },
  {
   "cell_type": "code",
   "execution_count": 29,
   "id": "9360be69",
   "metadata": {},
   "outputs": [],
   "source": [
    "criterion = nn.MSELoss()"
   ]
  },
  {
   "cell_type": "code",
   "execution_count": 30,
   "id": "24a93ee2",
   "metadata": {},
   "outputs": [],
   "source": [
    "optimizer = torch.optim.SGD(model.parameters(), lr= 0.001)"
   ]
  },
  {
   "cell_type": "code",
   "execution_count": 31,
   "id": "b2184c59",
   "metadata": {},
   "outputs": [
    {
     "name": "stdout",
     "output_type": "stream",
     "text": [
      "Epoch 1 Loss: 3057.216796875, weight: 0.10597813129425049, bias: 0.9637961387634277\n",
      "Epoch 2 Loss: 1588.5311279296875, weight: 3.334900379180908, bias: 1.0604636669158936\n",
      "Epoch 3 Loss: 830.2999877929688, weight: 1.0148327350616455, bias: 0.9922628402709961\n",
      "Epoch 4 Loss: 438.8524169921875, weight: 2.6817996501922607, bias: 1.0425218343734741\n",
      "Epoch 5 Loss: 236.7615203857422, weight: 1.4840211868286133, bias: 1.0076650381088257\n",
      "Epoch 6 Loss: 132.4291229248047, weight: 2.3446059226989746, bias: 1.0339646339416504\n",
      "Epoch 7 Loss: 78.56572723388672, weight: 1.7262253761291504, bias: 1.0163217782974243\n",
      "Epoch 8 Loss: 50.75775909423828, weight: 2.170504093170166, bias: 1.0302516222000122\n",
      "Epoch 9 Loss: 36.4012565612793, weight: 1.851245641708374, bias: 1.0214954614639282\n",
      "Epoch 10 Loss: 28.989229202270508, weight: 2.0806007385253906, bias: 1.029038906097412\n",
      "Epoch 11 Loss: 25.162382125854492, weight: 1.9157683849334717, bias: 1.0248701572418213\n",
      "Epoch 12 Loss: 23.186473846435547, weight: 2.034165620803833, bias: 1.0291162729263306\n",
      "Epoch 13 Loss: 22.166126251220703, weight: 1.9490584135055542, bias: 1.027315616607666\n",
      "Epoch 14 Loss: 21.639110565185547, weight: 2.010172128677368, bias: 1.0298590660095215\n",
      "Epoch 15 Loss: 21.366771697998047, weight: 1.9662237167358398, bias: 1.0292805433273315\n",
      "Epoch 16 Loss: 21.22591781616211, weight: 1.997764229774475, bias: 1.030944585800171\n",
      "Epoch 17 Loss: 21.15294647216797, weight: 1.9750648736953735, bias: 1.0309966802597046\n",
      "Epoch 18 Loss: 21.115009307861328, weight: 1.991337537765503, bias: 1.032206416130066\n",
      "Epoch 19 Loss: 21.095176696777344, weight: 1.9796085357666016, bias: 1.0325838327407837\n",
      "Epoch 20 Loss: 21.084684371948242, weight: 1.9879988431930542, bias: 1.0335586071014404\n",
      "Epoch 21 Loss: 21.07901382446289, weight: 1.981933355331421, bias: 1.034103512763977\n",
      "Epoch 22 Loss: 21.075830459594727, weight: 1.9862544536590576, bias: 1.034956693649292\n",
      "Epoch 23 Loss: 21.073938369750977, weight: 1.9831126928329468, bias: 1.0355877876281738\n",
      "Epoch 24 Loss: 21.07270050048828, weight: 1.9853330850601196, bias: 1.0363779067993164\n",
      "Epoch 25 Loss: 21.071819305419922, weight: 1.9837009906768799, bias: 1.037053108215332\n",
      "Epoch 26 Loss: 21.07110595703125, weight: 1.9848365783691406, bias: 1.037810206413269\n",
      "Epoch 27 Loss: 21.070486068725586, weight: 1.9839837551116943, bias: 1.0385079383850098\n",
      "Epoch 28 Loss: 21.069913864135742, weight: 1.9845597743988037, bias: 1.039247751235962\n",
      "Epoch 29 Loss: 21.069368362426758, weight: 1.9841090440750122, bias: 1.0399566888809204\n",
      "Epoch 30 Loss: 21.068838119506836, weight: 1.9843961000442505, bias: 1.0406872034072876\n",
      "Epoch 31 Loss: 21.068307876586914, weight: 1.984152913093567, bias: 1.0414016246795654\n",
      "Epoch 32 Loss: 21.067781448364258, weight: 1.9842908382415771, bias: 1.042127013206482\n",
      "Epoch 33 Loss: 21.0672607421875, weight: 1.9841549396514893, bias: 1.0428439378738403\n",
      "Epoch 34 Loss: 21.066740036010742, weight: 1.9842157363891602, bias: 1.043566346168518\n",
      "Epoch 35 Loss: 21.066225051879883, weight: 1.9841355085372925, bias: 1.0442842245101929\n",
      "Epoch 36 Loss: 21.06570816040039, weight: 1.9841564893722534, bias: 1.0450047254562378\n",
      "Epoch 37 Loss: 21.065187454223633, weight: 1.9841045141220093, bias: 1.0457227230072021\n",
      "Epoch 38 Loss: 21.064668655395508, weight: 1.9841052293777466, bias: 1.046441912651062\n",
      "Epoch 39 Loss: 21.064157485961914, weight: 1.9840680360794067, bias: 1.0471596717834473\n",
      "Epoch 40 Loss: 21.063636779785156, weight: 1.984058141708374, bias: 1.0478779077529907\n",
      "Epoch 41 Loss: 21.063125610351562, weight: 1.984028697013855, bias: 1.0485951900482178\n",
      "Epoch 42 Loss: 21.062606811523438, weight: 1.9840131998062134, bias: 1.0493125915527344\n",
      "Epoch 43 Loss: 21.062095642089844, weight: 1.98398756980896, bias: 1.0500292778015137\n",
      "Epoch 44 Loss: 21.06157684326172, weight: 1.9839695692062378, bias: 1.0507458448410034\n",
      "Epoch 45 Loss: 21.06106948852539, weight: 1.9839458465576172, bias: 1.051461935043335\n",
      "Epoch 46 Loss: 21.06055450439453, weight: 1.9839262962341309, bias: 1.0521777868270874\n",
      "Epoch 47 Loss: 21.060043334960938, weight: 1.9839037656784058, bias: 1.0528931617736816\n",
      "Epoch 48 Loss: 21.059532165527344, weight: 1.9838833808898926, bias: 1.0536082983016968\n",
      "Epoch 49 Loss: 21.05901336669922, weight: 1.9838614463806152, bias: 1.0543230772018433\n",
      "Epoch 50 Loss: 21.058509826660156, weight: 1.9838409423828125, bias: 1.055037498474121\n"
     ]
    }
   ],
   "source": [
    "epochs = 50\n",
    "losses = []\n",
    "\n",
    "for i in range(epochs):\n",
    "    i+=1\n",
    "    \n",
    "    y_pred = model.forward(X)\n",
    "    \n",
    "    loss = criterion(y_pred,y)\n",
    "    \n",
    "    losses.append(loss)\n",
    "    \n",
    "    print(f\"Epoch {i} Loss: {loss.item()}, weight: {model.linear.weight.item()}, bias: {model.linear.bias.item()}\")\n",
    "    \n",
    "    optimizer.zero_grad()\n",
    "    \n",
    "    loss.backward()\n",
    "    \n",
    "    optimizer.step()"
   ]
  },
  {
   "cell_type": "code",
   "execution_count": 36,
   "id": "248274e9",
   "metadata": {},
   "outputs": [
    {
     "data": {
      "text/plain": [
       "Text(0.5, 0, 'Epochs')"
      ]
     },
     "execution_count": 36,
     "metadata": {},
     "output_type": "execute_result"
    },
    {
     "data": {
      "image/png": "[encoded data removed]",
      "text/plain": [
       "<Figure size 640x480 with 1 Axes>"
      ]
     },
     "metadata": {},
     "output_type": "display_data"
    }
   ],
   "source": [
    "plt.plot(range(epochs),losses,'g')\n",
    "plt.ylabel(\"Loss\")\n",
    "plt.xlabel(\"Epochs\")"
   ]
  },
  {
   "cell_type": "code",
   "execution_count": 33,
   "id": "f059979c",
   "metadata": {},
   "outputs": [],
   "source": [
    "x = torch.linspace(0.0,50.0,50)\n",
    "current_weight = model.linear.weight.item()\n",
    "current_bias = model.linear.bias.item()\n",
    "\n",
    "predicted_y = current_weight*x + current_bias"
   ]
  },
  {
   "cell_type": "code",
   "execution_count": 34,
   "id": "07f7aa72",
   "metadata": {},
   "outputs": [
    {
     "name": "stdout",
     "output_type": "stream",
     "text": [
      "tensor([  1.0558,   3.0801,   5.1044,   7.1287,   9.1530,  11.1773,  13.2016,\n",
      "         15.2259,  17.2502,  19.2745,  21.2988,  23.3231,  25.3474,  27.3717,\n",
      "         29.3960,  31.4203,  33.4446,  35.4689,  37.4932,  39.5176,  41.5419,\n",
      "         43.5662,  45.5905,  47.6148,  49.6391,  51.6634,  53.6877,  55.7120,\n",
      "         57.7363,  59.7606,  61.7849,  63.8092,  65.8335,  67.8578,  69.8821,\n",
      "         71.9064,  73.9307,  75.9550,  77.9793,  80.0036,  82.0280,  84.0523,\n",
      "         86.0766,  88.1009,  90.1252,  92.1495,  94.1738,  96.1981,  98.2224,\n",
      "        100.2467])\n"
     ]
    }
   ],
   "source": [
    "print(predicted_y)"
   ]
  },
  {
   "cell_type": "code",
   "execution_count": 35,
   "id": "1b7bf412",
   "metadata": {},
   "outputs": [
    {
     "data": {
      "text/plain": [
       "[<matplotlib.lines.Line2D at 0x7fbd4a768d30>]"
      ]
     },
     "execution_count": 35,
     "metadata": {},
     "output_type": "execute_result"
    },
    {
     "data": {
      "image/png": "[encoded data removed]",
      "text/plain": [
       "<Figure size 640x480 with 1 Axes>"
      ]
     },
     "metadata": {},
     "output_type": "display_data"
    }
   ],
   "source": [
    "plt.scatter(X.numpy(),y.numpy())\n",
    "plt.plot(x,predicted_y,'r')"
   ]
  },
  {
   "cell_type": "code",
   "execution_count": null,
   "id": "fd2a661e",
   "metadata": {},
   "outputs": [],
   "source": []
  }
 ],
 "metadata": {
  "kernelspec": {
   "display_name": "Python 3 (ipykernel)",
   "language": "python",
   "name": "python3"
  },
  "language_info": {
   "codemirror_mode": {
    "name": "ipython",
    "version": 3
   },
   "file_extension": ".py",
   "mimetype": "text/x-python",
   "name": "python",
   "nbconvert_exporter": "python",
   "pygments_lexer": "ipython3",
   "version": "3.7.3"
  }
 },
 "nbformat": 4,
 "nbformat_minor": 5
}
